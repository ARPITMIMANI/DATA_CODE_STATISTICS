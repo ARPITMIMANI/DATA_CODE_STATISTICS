{
 "cells": [
  {
   "cell_type": "code",
   "execution_count": 1,
   "id": "cabe2304",
   "metadata": {},
   "outputs": [
    {
     "name": "stdout",
     "output_type": "stream",
     "text": [
      "12.110601416389967\n"
     ]
    }
   ],
   "source": [
    "# STANDARD DEVIATION IS A MEASURE OF HOW DISPERSED THE DATA IS IN RELATION TO THE MEAN .\n",
    "\n",
    "# IF STANDARD DEVIATION IS LOW THEN VARIANCE IS LOW .\n",
    "# IF STANDARD DEVIATION IS HIGH THEN VARIANCE IS HIGH .\n",
    "\n",
    "# CALCULATE STANDARD DEVIATION USING PYTHON .\n",
    "\n",
    "import statistics\n",
    "a = [80,72,92,64,84,68,76,60,96,88]\n",
    "b = statistics.stdev(a)\n",
    "print(b)"
   ]
  },
  {
   "cell_type": "code",
   "execution_count": 2,
   "id": "a6de10c7",
   "metadata": {},
   "outputs": [
    {
     "name": "stdout",
     "output_type": "stream",
     "text": [
      "3.1622776601683795\n"
     ]
    }
   ],
   "source": [
    "import statistics\n",
    "c = [14,16,18,20,12]\n",
    "d = statistics.stdev(c)\n",
    "print(d)"
   ]
  },
  {
   "cell_type": "code",
   "execution_count": 3,
   "id": "9633fd2d",
   "metadata": {},
   "outputs": [
    {
     "name": "stdout",
     "output_type": "stream",
     "text": [
      "12.083045973594572\n"
     ]
    }
   ],
   "source": [
    "# CALCULATE STANDARD DEVIATION USING NUMPY .\n",
    "\n",
    "import numpy as np\n",
    "import statistics\n",
    "e = np.array([80,72,92,64,84,68,76,60,96,88])\n",
    "f = statistics.stdev(e)\n",
    "print(f)"
   ]
  },
  {
   "cell_type": "code",
   "execution_count": 4,
   "id": "b97748c9",
   "metadata": {},
   "outputs": [
    {
     "name": "stdout",
     "output_type": "stream",
     "text": [
      "3.1622776601683795\n"
     ]
    }
   ],
   "source": [
    "import numpy as np\n",
    "import statistics\n",
    "g = np.array([14,16,18,20,12])\n",
    "h = statistics.stdev(g)\n",
    "print(h)"
   ]
  },
  {
   "cell_type": "code",
   "execution_count": null,
   "id": "4a7d49a0",
   "metadata": {},
   "outputs": [],
   "source": []
  }
 ],
 "metadata": {
  "kernelspec": {
   "display_name": "Python 3 (ipykernel)",
   "language": "python",
   "name": "python3"
  },
  "language_info": {
   "codemirror_mode": {
    "name": "ipython",
    "version": 3
   },
   "file_extension": ".py",
   "mimetype": "text/x-python",
   "name": "python",
   "nbconvert_exporter": "python",
   "pygments_lexer": "ipython3",
   "version": "3.10.9"
  }
 },
 "nbformat": 4,
 "nbformat_minor": 5
}
