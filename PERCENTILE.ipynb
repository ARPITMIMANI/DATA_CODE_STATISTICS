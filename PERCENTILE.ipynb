{
 "cells": [
  {
   "cell_type": "code",
   "execution_count": 1,
   "id": "d62d655b",
   "metadata": {},
   "outputs": [
    {
     "name": "stdout",
     "output_type": "stream",
     "text": [
      "92.4\n"
     ]
    }
   ],
   "source": [
    "'''\n",
    "percentile() IS A VALUE ON A SCALE OF 100 THAT INDICATES \n",
    "THE PERCENT OF A DISTRIBUTION THAT IS EQUAL TO OR BELOW IT .\n",
    "'''\n",
    "\n",
    "# CALCULATE PERCENTILE USING NUMPY .\n",
    "\n",
    "import numpy as np\n",
    "a = [80,72,92,64,84,68,76,60,96,88]\n",
    "b = np.percentile ( a , 90 )\n",
    "print(b)"
   ]
  },
  {
   "cell_type": "code",
   "execution_count": 2,
   "id": "7ae590a9",
   "metadata": {},
   "outputs": [
    {
     "name": "stdout",
     "output_type": "stream",
     "text": [
      "37.92\n"
     ]
    }
   ],
   "source": [
    "import numpy as np\n",
    "c = [40,28,36,24,12,44,20,48,16,32]\n",
    "d = np.percentile ( c , 72 )\n",
    "print(d)"
   ]
  },
  {
   "cell_type": "code",
   "execution_count": 3,
   "id": "0896ec78",
   "metadata": {},
   "outputs": [
    {
     "name": "stdout",
     "output_type": "stream",
     "text": [
      "12.0\n"
     ]
    }
   ],
   "source": [
    "import numpy as np\n",
    "c = [40,28,36,24,12,44,20,48,16,32]\n",
    "d = np.percentile ( c , 0 )\n",
    "print(d)"
   ]
  },
  {
   "cell_type": "code",
   "execution_count": 4,
   "id": "03b4c484",
   "metadata": {},
   "outputs": [
    {
     "name": "stdout",
     "output_type": "stream",
     "text": [
      "48.0\n"
     ]
    }
   ],
   "source": [
    "import numpy as np\n",
    "c = [40,28,36,24,12,44,20,48,16,32]\n",
    "d = np.percentile ( c , 100 )\n",
    "print(d)"
   ]
  },
  {
   "cell_type": "code",
   "execution_count": 5,
   "id": "502b3c0a",
   "metadata": {},
   "outputs": [
    {
     "name": "stdout",
     "output_type": "stream",
     "text": [
      "39.8784\n"
     ]
    }
   ],
   "source": [
    "import numpy as np\n",
    "c = [40,28,36,24,12,44,20,48,16,32]\n",
    "d = np.percentile ( c , 77.44 )\n",
    "print(d)"
   ]
  },
  {
   "cell_type": "code",
   "execution_count": null,
   "id": "77a321e3",
   "metadata": {},
   "outputs": [],
   "source": []
  }
 ],
 "metadata": {
  "kernelspec": {
   "display_name": "Python 3 (ipykernel)",
   "language": "python",
   "name": "python3"
  },
  "language_info": {
   "codemirror_mode": {
    "name": "ipython",
    "version": 3
   },
   "file_extension": ".py",
   "mimetype": "text/x-python",
   "name": "python",
   "nbconvert_exporter": "python",
   "pygments_lexer": "ipython3",
   "version": "3.10.9"
  }
 },
 "nbformat": 4,
 "nbformat_minor": 5
}
