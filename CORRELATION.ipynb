{
 "cells": [
  {
   "cell_type": "code",
   "execution_count": 1,
   "id": "7aa38765",
   "metadata": {},
   "outputs": [
    {
     "name": "stdout",
     "output_type": "stream",
     "text": [
      "0.15745916432444337\n"
     ]
    }
   ],
   "source": [
    "# CORRELATION IS A MEASURE THAT QUANTIFIES THE RELATIONSHIP BETWEEN TWO QUANTITATIVE VARIABLES .\n",
    "# CORRELATION 2 TYPES : POSITIVE CORRELATION AND NEGATIVE CORRELATION .\n",
    "\n",
    "# CALCULATE CORRELATION COEFFICIENT BETWEEN TWO VARIABLES USING NUMPY .\n",
    "\n",
    "import numpy as np\n",
    "\n",
    "day = [1,2,3,4,5,6,7,8,9,10]\n",
    "exercise = [48,42,54,56,40,52,60,46,58,44] \n",
    "\n",
    "aa = np.corrcoef ( day , exercise )\n",
    "bb = aa[0,1]\n",
    "print(bb)"
   ]
  },
  {
   "cell_type": "code",
   "execution_count": 2,
   "id": "74c0ca8d",
   "metadata": {},
   "outputs": [
    {
     "name": "stdout",
     "output_type": "stream",
     "text": [
      "0.9957241920665915\n"
     ]
    }
   ],
   "source": [
    "import numpy as np\n",
    "\n",
    "temperature = [36,33,39,34,40,32,38,31,37,35]\n",
    "icecream_sales = [135,124,143,126,148,119,140,116,137,132] \n",
    "\n",
    "cc = np.corrcoef ( temperature , icecream_sales )\n",
    "dd = cc[0,1]\n",
    "print(dd)"
   ]
  },
  {
   "cell_type": "code",
   "execution_count": 3,
   "id": "e826de03",
   "metadata": {},
   "outputs": [
    {
     "name": "stdout",
     "output_type": "stream",
     "text": [
      "-0.15745916432444337\n"
     ]
    }
   ],
   "source": [
    "import numpy as np\n",
    "\n",
    "daily = [10,9,8,7,6,5,4,3,2,1]\n",
    "exercise_in_minutes = [48,42,54,56,40,52,60,46,58,44] \n",
    "\n",
    "ee = np.corrcoef ( daily , exercise_in_minutes )\n",
    "ff = ee[0,1]\n",
    "print(ff)"
   ]
  },
  {
   "cell_type": "code",
   "execution_count": 4,
   "id": "1aa47f51",
   "metadata": {},
   "outputs": [
    {
     "name": "stdout",
     "output_type": "stream",
     "text": [
      "0.9717933240173295\n"
     ]
    }
   ],
   "source": [
    "import numpy as np\n",
    "\n",
    "year = [ 2011 , 2012 , 2013 , 2014 , 2015 , 2016 , 2017 , 2018 , 2019 , 2020 ]\n",
    "sale = [ 256 , 400 , 484 , 676 , 784 , 900 , 1024 , 1296 , 1764 , 1936 ] \n",
    "\n",
    "gg = np.corrcoef ( year , sale )\n",
    "hh = gg[0,1]\n",
    "print(hh)"
   ]
  },
  {
   "cell_type": "code",
   "execution_count": 5,
   "id": "2c2afd37",
   "metadata": {},
   "outputs": [
    {
     "name": "stdout",
     "output_type": "stream",
     "text": [
      "0.9717933240173295\n"
     ]
    }
   ],
   "source": [
    "import numpy as np\n",
    "\n",
    "years = [ 2016 , 2013 , 2019 , 2012 , 2017 , 2014 , 2011 , 2020 , 2018 , 2015 ]\n",
    "sales = [ 900 , 484 , 1764 , 400 , 1024 , 676 , 256 , 1936 , 1296 , 784 ] \n",
    "\n",
    "kk = np.corrcoef ( years , sales )\n",
    "ll = kk[0,1]\n",
    "print(ll)"
   ]
  },
  {
   "cell_type": "code",
   "execution_count": null,
   "id": "27086981",
   "metadata": {},
   "outputs": [],
   "source": []
  }
 ],
 "metadata": {
  "kernelspec": {
   "display_name": "Python 3 (ipykernel)",
   "language": "python",
   "name": "python3"
  },
  "language_info": {
   "codemirror_mode": {
    "name": "ipython",
    "version": 3
   },
   "file_extension": ".py",
   "mimetype": "text/x-python",
   "name": "python",
   "nbconvert_exporter": "python",
   "pygments_lexer": "ipython3",
   "version": "3.10.9"
  }
 },
 "nbformat": 4,
 "nbformat_minor": 5
}
