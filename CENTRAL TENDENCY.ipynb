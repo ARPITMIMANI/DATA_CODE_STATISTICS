{
 "cells": [
  {
   "cell_type": "code",
   "execution_count": 1,
   "id": "42aa863f",
   "metadata": {},
   "outputs": [
    {
     "name": "stdout",
     "output_type": "stream",
     "text": [
      "16.0\n"
     ]
    }
   ],
   "source": [
    "# CENTRAL TENDECY : IT HAS 3 PARTS mean() , median() , mode() .\n",
    "# mean() IS THE AVERAGE VALUE IN A SET OF NUMBERS .\n",
    "\n",
    "# CALCULATE MEAN VALUE USING PYTHON .\n",
    "\n",
    "a1 = [12,14,16,18,20]\n",
    "a2 = sum(a1) / len(a1)\n",
    "print(a2)"
   ]
  },
  {
   "cell_type": "code",
   "execution_count": 2,
   "id": "7bf06ba6",
   "metadata": {},
   "outputs": [
    {
     "name": "stdout",
     "output_type": "stream",
     "text": [
      "16.0\n"
     ]
    }
   ],
   "source": [
    "# CALCULATE MEAN VALUE USING NUMPY .\n",
    "\n",
    "import numpy as np\n",
    "b1 = np.array([12,14,16,18,20])\n",
    "b2 = np.mean(b1)\n",
    "print(b2)"
   ]
  },
  {
   "cell_type": "code",
   "execution_count": 3,
   "id": "e8c75fc2",
   "metadata": {},
   "outputs": [
    {
     "name": "stdout",
     "output_type": "stream",
     "text": [
      "[12, 14, 16, 18, 20]\n",
      "16\n"
     ]
    }
   ],
   "source": [
    "# median() IS THE MIDDLE VALUE IN A SET OF NUMBERS .\n",
    "\n",
    "# CALCULATE MEAN VALUE USING PYTHON FOR ODD SET OF NUMBERS .\n",
    "\n",
    "c1 = [16,18,12,20,14]\n",
    "c1.sort()\n",
    "print(c1)\n",
    "xx = len(c1)\n",
    "\n",
    "if xx % 2 == 0:\n",
    "    c2 = ( c1[xx//2-1] + c1[xx//2] ) / 2\n",
    "else:\n",
    "    c2 = c1[xx//2]\n",
    "print(c2)    "
   ]
  },
  {
   "cell_type": "code",
   "execution_count": 4,
   "id": "4b57a785",
   "metadata": {},
   "outputs": [
    {
     "name": "stdout",
     "output_type": "stream",
     "text": [
      "[12, 14, 16, 18, 20, 22]\n",
      "17.0\n"
     ]
    }
   ],
   "source": [
    "# CALCULATE MEAN VALUE USING PYTHON FOR EVEN SET OF NUMBERS .\n",
    "\n",
    "c3 = [18,20,14,22,12,16]\n",
    "c3.sort()\n",
    "print(c3)\n",
    "yy = len(c3)\n",
    "\n",
    "if yy % 2 == 0:\n",
    "    c4 = ( c3[yy//2-1] + c3[yy//2] ) / 2\n",
    "else:\n",
    "    c4 = c3[yy//2]\n",
    "print(c4)    "
   ]
  },
  {
   "cell_type": "code",
   "execution_count": 5,
   "id": "fa93d75f",
   "metadata": {},
   "outputs": [
    {
     "name": "stdout",
     "output_type": "stream",
     "text": [
      "16.0\n"
     ]
    }
   ],
   "source": [
    "# CALCULATE MEAN VALUE USING NUMPY FOR ODD SET OF NUMBERS .\n",
    "\n",
    "import numpy as np\n",
    "d1 = np.array([[16,18,12,20,14]])\n",
    "d2 = np.median(d1)\n",
    "print(d2)"
   ]
  },
  {
   "cell_type": "code",
   "execution_count": 6,
   "id": "19be51df",
   "metadata": {},
   "outputs": [
    {
     "name": "stdout",
     "output_type": "stream",
     "text": [
      "17.0\n"
     ]
    }
   ],
   "source": [
    "# CALCULATE MEAN VALUE USING NUMPY FOR EVEN SET OF NUMBERS .\n",
    "\n",
    "import numpy as np\n",
    "d3 = np.array([[18,20,14,22,12,16]])\n",
    "d4 = np.median(d3)\n",
    "print(d4)"
   ]
  },
  {
   "cell_type": "code",
   "execution_count": 7,
   "id": "1d7cc0bf",
   "metadata": {},
   "outputs": [
    {
     "name": "stdout",
     "output_type": "stream",
     "text": [
      "16\n"
     ]
    }
   ],
   "source": [
    "# mode() IS THE MOST FREQUENTLY APPEARING VALUE IN A SET OF NUMBERS .\n",
    "\n",
    "# CALCULATE MODE VALUE USING PYTHON .\n",
    "\n",
    "from collections import Counter\n",
    "e1 = [16,20,12,18,14,16]\n",
    "e2 = Counter(e1)\n",
    "e3 = e2.most_common(1)[0][0]\n",
    "print(e3)"
   ]
  },
  {
   "cell_type": "code",
   "execution_count": 8,
   "id": "92ec522a",
   "metadata": {},
   "outputs": [
    {
     "name": "stdout",
     "output_type": "stream",
     "text": [
      "16\n"
     ]
    },
    {
     "name": "stderr",
     "output_type": "stream",
     "text": [
      "C:\\Users\\ARPIT-MIMANI\\AppData\\Local\\Temp\\ipykernel_5080\\3194445221.py:6: FutureWarning: Unlike other reduction functions (e.g. `skew`, `kurtosis`), the default behavior of `mode` typically preserves the axis it acts along. In SciPy 1.11.0, this behavior will change: the default value of `keepdims` will become False, the `axis` over which the statistic is taken will be eliminated, and the value None will no longer be accepted. Set `keepdims` to True or False to avoid this warning.\n",
      "  f2 = stats.mode(f1)\n"
     ]
    }
   ],
   "source": [
    "# CALCULATE MODE VALUE USING NUMPY .\n",
    "\n",
    "import numpy as np\n",
    "from scipy import stats\n",
    "f1 = np.array([16,20,12,18,14,16])\n",
    "f2 = stats.mode(f1)\n",
    "print(f2.mode[0])"
   ]
  },
  {
   "cell_type": "code",
   "execution_count": null,
   "id": "10550205",
   "metadata": {},
   "outputs": [],
   "source": []
  }
 ],
 "metadata": {
  "kernelspec": {
   "display_name": "Python 3 (ipykernel)",
   "language": "python",
   "name": "python3"
  },
  "language_info": {
   "codemirror_mode": {
    "name": "ipython",
    "version": 3
   },
   "file_extension": ".py",
   "mimetype": "text/x-python",
   "name": "python",
   "nbconvert_exporter": "python",
   "pygments_lexer": "ipython3",
   "version": "3.10.9"
  }
 },
 "nbformat": 4,
 "nbformat_minor": 5
}
