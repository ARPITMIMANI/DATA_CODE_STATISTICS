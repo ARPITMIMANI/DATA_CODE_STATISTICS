{
 "cells": [
  {
   "cell_type": "code",
   "execution_count": 1,
   "id": "29399e6a",
   "metadata": {},
   "outputs": [
    {
     "name": "stdout",
     "output_type": "stream",
     "text": [
      "11.0\n",
      "13.25\n",
      "15.5\n",
      "17.75\n",
      "20.0\n"
     ]
    }
   ],
   "source": [
    "# CALCULATE QUARTILE USING NUMPY .\n",
    "\n",
    "import numpy as np\n",
    "a = np.array([11,12,13,14,15,16,17,18,19,20])\n",
    "\n",
    "a1 = np.percentile ( a , 0 )\n",
    "a2 = np.percentile ( a , 25 )\n",
    "a3 = np.percentile ( a , 50 )\n",
    "a4 = np.percentile ( a , 75 )\n",
    "a5 = np.percentile ( a , 100 )\n",
    "\n",
    "print(a1)\n",
    "print(a2)\n",
    "print(a3)\n",
    "print(a4)\n",
    "print(a5)"
   ]
  },
  {
   "cell_type": "code",
   "execution_count": 2,
   "id": "afe91f2a",
   "metadata": {},
   "outputs": [
    {
     "name": "stdout",
     "output_type": "stream",
     "text": [
      "11.0\n",
      "12.75\n",
      "15.5\n",
      "18.25\n",
      "20.0\n"
     ]
    }
   ],
   "source": [
    "import numpy as np\n",
    "b = np.array([11,12,15,16,19,20])\n",
    "\n",
    "b1 = np.percentile ( b , 0 )\n",
    "b2 = np.percentile ( b , 25 )\n",
    "b3 = np.percentile ( b , 50 )\n",
    "b4 = np.percentile ( b , 75 )\n",
    "b5 = np.percentile ( b , 100 )\n",
    "\n",
    "print(b1)\n",
    "print(b2)\n",
    "print(b3)\n",
    "print(b4)\n",
    "print(b5)"
   ]
  },
  {
   "cell_type": "code",
   "execution_count": 3,
   "id": "579d1bad",
   "metadata": {},
   "outputs": [
    {
     "name": "stdout",
     "output_type": "stream",
     "text": [
      "11.0\n",
      "13.25\n",
      "15.5\n",
      "17.75\n",
      "20.0\n"
     ]
    }
   ],
   "source": [
    "import numpy as np\n",
    "c = np.array([11,11,14,14,17,17,20,20])\n",
    "\n",
    "c1 = np.percentile ( c , 0 )\n",
    "c2 = np.percentile ( c , 25 )\n",
    "c3 = np.percentile ( c , 50 )\n",
    "c4 = np.percentile ( c , 75 )\n",
    "c5 = np.percentile ( c , 100 )\n",
    "\n",
    "print(c1)\n",
    "print(c2)\n",
    "print(c3)\n",
    "print(c4)\n",
    "print(c5)"
   ]
  },
  {
   "cell_type": "code",
   "execution_count": 4,
   "id": "7896fa92",
   "metadata": {},
   "outputs": [
    {
     "name": "stdout",
     "output_type": "stream",
     "text": [
      "11.0\n",
      "12.0\n",
      "15.5\n",
      "19.0\n",
      "20.0\n"
     ]
    }
   ],
   "source": [
    "import numpy as np\n",
    "d = np.array([11,11,11,12,12,13,13,18,18,19,19,20,20,20])\n",
    "\n",
    "d1 = np.percentile ( d , 0 )\n",
    "d2 = np.percentile ( d , 25 )\n",
    "d3 = np.percentile ( d , 50 )\n",
    "d4 = np.percentile ( d , 75 )\n",
    "d5 = np.percentile ( d , 100 )\n",
    "\n",
    "print(d1)\n",
    "print(d2)\n",
    "print(d3)\n",
    "print(d4)\n",
    "print(d5)"
   ]
  },
  {
   "cell_type": "code",
   "execution_count": 5,
   "id": "361c7124",
   "metadata": {},
   "outputs": [
    {
     "name": "stdout",
     "output_type": "stream",
     "text": [
      "11.0\n",
      "12.0\n",
      "15.5\n",
      "19.0\n",
      "20.0\n"
     ]
    }
   ],
   "source": [
    "import numpy as np\n",
    "e = np.array([11,12,13,18,19,20,11,12,13,18,19,20])\n",
    "\n",
    "e1 = np.percentile ( e , 0 )\n",
    "e2 = np.percentile ( e , 25 )\n",
    "e3 = np.percentile ( e , 50 )\n",
    "e4 = np.percentile ( e , 75 )\n",
    "e5 = np.percentile ( e , 100 )\n",
    "\n",
    "print(e1)\n",
    "print(e2)\n",
    "print(e3)\n",
    "print(e4)\n",
    "print(e5)"
   ]
  },
  {
   "cell_type": "code",
   "execution_count": null,
   "id": "05d06463",
   "metadata": {},
   "outputs": [],
   "source": []
  }
 ],
 "metadata": {
  "kernelspec": {
   "display_name": "Python 3 (ipykernel)",
   "language": "python",
   "name": "python3"
  },
  "language_info": {
   "codemirror_mode": {
    "name": "ipython",
    "version": 3
   },
   "file_extension": ".py",
   "mimetype": "text/x-python",
   "name": "python",
   "nbconvert_exporter": "python",
   "pygments_lexer": "ipython3",
   "version": "3.10.9"
  }
 },
 "nbformat": 4,
 "nbformat_minor": 5
}
